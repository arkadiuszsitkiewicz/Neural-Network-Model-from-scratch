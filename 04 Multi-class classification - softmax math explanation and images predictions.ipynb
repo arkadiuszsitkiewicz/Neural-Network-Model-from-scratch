{
 "cells": [
  {
   "cell_type": "code",
   "execution_count": 1,
   "id": "09c24367",
   "metadata": {},
   "outputs": [],
   "source": [
    "from src.data.data_management import DataManagement\n",
    "from src.data.data_transformation import DataTransformation\n",
    "from src.NN_model.NeuralNetworkModel import NeuralNetworkModel\n",
    "from src.NN_model.basic_metrics import basic_metrics\n",
    "from src.vis.visualize import Visualization\n",
    "import matplotlib.pyplot as plt\n",
    "import numpy as np\n",
    "import pandas as pd"
   ]
  },
  {
   "attachments": {
    "image-3.png": {
     "image/png": "[encoded data removed]"
    }
   },
   "cell_type": "markdown",
   "id": "f4361a6c",
   "metadata": {},
   "source": [
    "# Multi-class classification with the usage of Neural Network\n",
    "This is the last notebook in this project. In this paper I will present the last functionality that I added to the NeuralNetworkModel - it is multiclass classification.\n",
    "\n",
    "**Earlier, the model has specific limitation:**\n",
    "- could only work for binary tasks - 0 or 1, *yes* or *no*\n",
    "- shape of y was  (1, num_examples)\n",
    "- model was using sigmoid activation function in last layer, because sigmoid function for any given parameter, will always outputs values between 0 and 1.\n",
    "\n",
    "**Now for the multiclass classification:**\n",
    "- model can work for any number of classes, but as an input, we have to provide Y as One Hot Encoded Matrix ![image-3.png](attachment:image-3.png)\n",
    "- shape of y is now (num_of_classes, num_examples)\n",
    "- model is using softmax activation function in the last layer. It was pretty hard for me to come up with derivative formula and vectorization form, so I am going to explaing this now"
   ]
  },
  {
   "cell_type": "markdown",
   "id": "8b63fade",
   "metadata": {},
   "source": [
    "## Softmax\n",
    "### Softmax activation function in forward propagation\n",
    "The formula for softmax is as follows:\n",
    "$$softmax(z_i) = \\frac{e^{z_i}}{ \\sum_{i=0}^{C - 1} e^{z_i}} $$\n",
    "\n",
    "Now, let's put it in the matrix. Matrix for 4 classes and one training example matrics looks like follows:\n",
    "$$\\begin{bmatrix} \\frac{e^{z_0}}{ \\sum_{c=0}^{C - 1} e^{z_i}}   \\\\ \\frac{e^{z_1}}{ \\sum_{c=0}^{C - 1} e^{z_i}}  \\\\ \\frac{e^{z_2}}{ \\sum_{c=0}^{C - 1} e^{z_i}}  \\end{bmatrix} = \\begin{bmatrix} softmax(z_0) \\\\ softmax(z_1) \\\\ softmax(z_2) \\end{bmatrix}$$\n",
    "Sum of this vector (matrix) equals to 1. Value for each row (cell) is probability value.\n",
    "### Softmax derivative in backward propagation\n",
    "So, we have to compute *dZ* with respect to softmax activation function. But overall derivative  in the in this case, takes also derivative of cost function with respect fo softmax function.\n",
    "\n",
    "Cost function:\n",
    "$$ L(\\hat{y}, y) = L(a, y) = -\\sum_{c=0}^{C-1} y_c  log(a_c)$$\n",
    "\n",
    "Derivative of cost function with respect to *z*:\n",
    "$$ \\frac{\\partial L}{\\partial z_j} = -\\sum_{c=0}^{C-1} y_c \\frac{\\partial} {\\partial z_j} log(a_c)\n",
    "= -\\sum_{c=0}^{C-1} y_c \\frac{\\partial log(a_c)} {\\partial a_c} \\frac{\\partial a_c}{\\partial z_j}\n",
    "= -\\sum_{c=0}^{C-1} \\frac{y_c}{a_c} \\frac{\\partial a_c}{\\partial z_j} = $$\n",
    "$$ = -\\frac{y_c}{a_c}(\\frac{\\partial a_j}{\\partial z_j} + \\sum_{c=0, c\\neq{j}}^{C-1}\\frac{\\partial a_j}{\\partial z_j})$$\n",
    "The fraction below is derivative of cost function with respect fo softmax function:\n",
    "$$ -\\frac{y_c}{a_c}$$\n",
    "And the derivative of softmax function with respect to *z* is as follows:\n",
    "$$\\frac{\\partial a_j}{\\partial z_j} + \\sum_{i=0, c\\neq{j}}^{C-1}\\frac{\\partial a_j}{\\partial z_j} $$\n",
    "I split summation into 2 fraction because of different value of derivative when i = j and when it is not.\n",
    "- when $i=j$\n",
    "$$\\frac{\\partial a_j}{\\partial z_j} = \\frac{\\partial softmax(z_j)}{\\partial z_j} = \\frac{\\partial }{\\partial  z_j} \\frac{e^{z_j}}{ \\sum_{i=0}^{C - 1} e^{z_i}} \n",
    "=\\frac{\\sum_{i=0}^{C - 1} e^{z_i} \\frac{\\partial}{\\partial z_j} e^{z_j} - e^{z_j} \\frac{\\partial}{\\partial z_j}\\sum_{i=0}^{C - 1} e^{z_i}} {({\\sum_{i=0}^{C - 1} e^{z_i}})^2} = $$\n",
    "\n",
    "$$= \\frac{(\\sum_{i=0}^{C - 1} e^{z_i}) e^{z_j} - e^{z_j} e^{z_i}} {({\\sum_{i=0}^{C - 1} e^{z_i}})^2}\n",
    "= \\frac{e^{z_j}(\\sum_{i=0}^{C - 1} e^{z_i} - e^{z_i})} {({\\sum_{i=0}^{C - 1} e^{z_i}})^2}\n",
    "= \\frac{e^{z_j}} {({\\sum_{i=0}^{C - 1} e^{z_i}})} \\frac{\\sum_{i=0}^{C - 1} e^{z_i} - e^{z_i}} {({\\sum_{i=0}^{C - 1} e^{z_i}})}$$\n",
    "$$= softmax(z_j) (1 - softmax(z_j))$$\n",
    "\n",
    "- when $i\\neq j$\n",
    "\n",
    "$$\\frac{\\partial a_i}{\\partial z_j} = \\frac{\\partial softmax(z_i)}{\\partial z_j} = \\frac{\\partial }{\\partial  z_j} \\frac{e^{z_i}}{ \\sum_{i=0}^{C - 1} e^{z_i}} \n",
    "=\\frac{(\\sum_{i=0}^{C - 1} e^{z_i}) \\frac{\\partial}{\\partial z_j} e^{z_i} - e^{z_i} \\frac{\\partial}{\\partial z_j}(\\sum_{i=0}^{C - 1} e^{z_i})} {({\\sum_{i=0}^{C - 1} e^{z_i}})^2} = $$\n",
    "\n",
    "\n",
    "$$ = \\frac{0 - e^{z_i}  e^{z_j})} {({\\sum_{i=0}^{C - 1} e^{z_i}})^2}  \n",
    "= - \\frac{e^{z_i}} {({\\sum_{i=0}^{C - 1} e^{z_i}})} \\frac{e^{z_j}} {({\\sum_{i=0}^{C - 1} e^{z_i}})} = -softmax(z_i)softmax(z_j)$$\n",
    "\n",
    "**Summary of a softmax derivative:**\n",
    "$$\\frac{\\partial softmax(z_i)}{\\partial z_j} = \n",
    "\\begin{cases}\n",
    "softmax(z_j)* (1 - softmax(z_j)) \\ \\ \\ \\ \\text{when } i=j\\\\\n",
    "-softmax(z_i)*softmax(z_j )\\ \\ \\ \\ \\text{when } i\\neq j\n",
    "\\end{cases}$$\n",
    "###  Softmax derivative vectorization\n",
    "So we need following formula for every example:\n",
    "$$\\frac{\\partial a_j}{\\partial z_j} + \\sum_{i=0, c\\neq{j}}^{C-1}\\frac{\\partial a_j}{\\partial z_j} $$\n",
    "In other words:\n",
    "$$softmax(z_j)* (1 - softmax(z_j)) + \\sum_{i=0, c\\neq{j}}^{C-1} -softmax(z_i)*softmax(z_j )$$\n",
    "And now I will show you how to vectorize this expression:\n",
    "- let's define vector *s*\n",
    "$$s = \\begin{bmatrix} softmax(z_0) \\\\ softmax(z_1) \\\\ softmax(z_2) \\end{bmatrix}$$\n",
    "- let's compute dot product of $s*s.T$ this is a result:\n",
    "\n",
    "$$s*s.T = \\begin{bmatrix} softmax(z_0)* softmax(z_0) & softmax(z_0)*softmax(z_1) & softmax(z_0)*softmax(z_2)\\\\ softmax(z_0)*softmax(z_1) & softmax(z_1)*softmax(z_1) & softmax(z_1)*softmax(z_2) \\\\ softmax(z_0)*softmax(z_2) & softmax(z_1)*softmax(z_2) & softmax(z_2)*softmax(z_2)\\end{bmatrix}$$\n",
    "\n",
    "- if we calculate following formula $s*np.identity(s.size) - np.dot(s, s.T)$ we are going to get:\n",
    "\n",
    "$$\\begin{bmatrix} softmax(z_0) - softmax(z_0)*softmax(z_0) & -softmax(z_0)*softmax(z_1) & -softmax(z_0)*softmax(z_2)\\\\ -softmax(z_0)*softmax(z_1) & softmax(z_1) - softmax(z_1)*softmax(z_1) & -softmax(z_1)*softmax(z_2) \\\\ -softmax(z_0)*softmax(z_2) & -softmax(z_1)*softmax(z_2) & softmax(z_2) - softmax(z_2)*softmax(z_2)\\end{bmatrix}$$\n",
    "\n",
    "let's name this matrix as <strong>$ds$</strong>\n",
    "\n",
    "- we are almost there. To calcuate backward propagation step, we will pass derivative of cost function with respect to softmax as a parameter. Those values looks as follows:\n",
    "$$dAL = \\begin{bmatrix} \\frac{y_0}{softmax(z_0)} \\\\ \\frac{y_1}{softmax(z_1)} \\\\ \\frac{y_2}{softmax(z_2)} \\end{bmatrix}$$\n",
    "\n",
    "- and now, to get expression that we want, we have to compute dot product of $ds*dAL$\n",
    "\n",
    "<strong>Note</strong>: To make those calculation more readable I am going to write $softmax(z_i)$ as $a(z_i)$\n",
    "\n",
    "$$np.dot(ds, dAL) =\n",
    "\\begin{bmatrix} \n",
    "\\frac{y_0}{a(z_0)} [a(z_0) - a(z_0)*a(z_0)] + \\frac{y_1}{a(z_1)} [-a(z_0) a(z_1)] + \\frac{y_2}{a(z_2)} [-a(z_0) a(z_2)] \\\\\n",
    "\\frac{y_0}{a(z_0)} [-a(z_0) a(z_1)] + \\frac{y_1}{a(z_1)} [a(z_1) - a(z_1)*a(z_1)] + \\frac{y_2}{a(z_2)} [-a(z_1) a(z_2)] \\\\\n",
    "\\frac{y_0}{a(z_0)} [-a(z_0) a(z_2)] + \\frac{y_1}{a(z_1)} [-a(z_1) a(z_2)] + \\frac{y_2}{a(z_2)} [a(z_2) - a(z_2)*a(z_2)]\n",
    "\\end{bmatrix}$$\n",
    "\n",
    "And that the expression that is needed to calculate softmax derivative.\n",
    "###  Softmax derivative vectorization for multiple examples\n",
    "This guide was only for 1 training example. How to vectorize this across entire trainig set? Let's say we have 3 examples, every each one of them has 2 features. Matrix shape is $(2,3)$\n",
    "- after computing $s$, unroll examples one by one to a column vector $(2,3)-> (6, 1)$\n",
    "- add a mask to the expression for $ds = s*np.identity(s.size) - mask*np.dot(s, s.T)$. Dot product of $np.dot(s, s.T)$ has a shape $(6,6)$, so a mask also will have a shape $(6,6)$ since this is element-wise multiplication. Mask looks as follows:\n",
    "$$mask =\n",
    "\\begin{bmatrix}\n",
    "1 & 1 &  0 & 0 & 0 & 0 \\\\\n",
    "1 & 1 &  0 & 0 & 0 & 0 \\\\ \n",
    "0 & 0 &  1 & 1 & 0 & 0 \\\\\n",
    "0 & 0 &  1 & 1 & 0 & 0 \\\\\n",
    "0 & 0 &  0 & 0 & 1 & 1 \\\\\n",
    "0 & 0 &  0 & 0 & 1 & 1 \\\\\n",
    "\\end{bmatrix}$$\n",
    "- unroll values of $dAL$ to a colum vector $(2,3)-> (6, 1)$\n",
    "- calculate final derivative $dZ = np.dot(ds, dAL)$\n",
    "- reshape $dZ$ back to required shape $(6, 1)-> (2, 3)$"
   ]
  },
  {
   "cell_type": "markdown",
   "id": "4454cc89",
   "metadata": {},
   "source": [
    "## Let's take a look a dataset\n",
    "Let's take a look at the data. This dataset contains 6 different classes of pictures (picture of hand showing numbers from 0 to 5) "
   ]
  },
  {
   "cell_type": "code",
   "execution_count": 2,
   "id": "124e84cd",
   "metadata": {},
   "outputs": [
    {
     "data": {
      "image/png": "[encoded data removed]",
      "text/plain": [
       "<Figure size 432x288 with 1 Axes>"
      ]
     },
     "metadata": {
      "needs_background": "light"
     },
     "output_type": "display_data"
    }
   ],
   "source": [
    "example_data, example_label, _, _ = DataManagement.load_dataset(\"data/signs/raw/\", \"train_signs.h5\", \"test_signs.h5\",\n",
    "                                                                vectorize=False, normalize=False)\n",
    "r = np.random.choice(len(example_data))\n",
    "plt.title(f\"A hand is showing {example_label[r]}\")\n",
    "plt.imshow(example_data[r])\n",
    "plt.show()"
   ]
  },
  {
   "cell_type": "markdown",
   "id": "d2835b7d",
   "metadata": {},
   "source": [
    "Originally, the data set stores images in matrices 64x64x3 and labes as an array (no dimension at all). What is more, RGB channels format has a range 0-255."
   ]
  },
  {
   "cell_type": "code",
   "execution_count": 3,
   "id": "33077bbc",
   "metadata": {},
   "outputs": [
    {
     "name": "stdout",
     "output_type": "stream",
     "text": [
      "Dimensions and resolution of images: (64, 64, 3)\n",
      "Dimensions of stored labels: ()\n",
      "Range of a random example: 215\n"
     ]
    }
   ],
   "source": [
    "print(f\"Dimensions and resolution of images: {example_data[r].shape}\")\n",
    "print(f\"Dimensions of stored labels: {example_label[r].shape}\")\n",
    "print(f\"Range of a random example: {np.ptp(example_data[r])}\")"
   ]
  },
  {
   "cell_type": "markdown",
   "id": "6f754fd7",
   "metadata": {},
   "source": [
    "## Preprocessing of dataset\n",
    "### Vectorization and normalization\n",
    "In the next step I will vectorize my features - earlier it was stored in 3D array, but now every example will be stored as a column vector. Labels will be stored as vectors as well. What is more, the features will be normalized - in this case all the values will be divided by 255, so new range is between 0 and 1. This operations are provided in DataManagement class during import of a data. So, let's one more time import data, with those options turned on."
   ]
  },
  {
   "cell_type": "code",
   "execution_count": 4,
   "id": "613f0c87",
   "metadata": {},
   "outputs": [],
   "source": [
    "train_x, train_y, test_x, test_y = DataManagement.load_dataset(\"data/signs/raw/\", \"train_signs.h5\", \"test_signs.h5\",\n",
    "                                                                vectorize=True, normalize=True)"
   ]
  },
  {
   "cell_type": "code",
   "execution_count": 5,
   "id": "cb85bb3d",
   "metadata": {},
   "outputs": [
    {
     "name": "stdout",
     "output_type": "stream",
     "text": [
      "Training set shape: (12288, 1080)\n",
      "Training set labels shape: (1, 1080)\n",
      "Range of a random example: 0.7294117647058824\n"
     ]
    }
   ],
   "source": [
    "print(f\"Training set shape: {train_x.shape}\")\n",
    "print(f\"Training set labels shape: {train_y.shape}\")\n",
    "print(f\"Range of a random example: {np.ptp(train_x[r])}\")"
   ]
  },
  {
   "cell_type": "markdown",
   "id": "0b9bcd99",
   "metadata": {},
   "source": [
    "So now, a variable train_x stores 12288 features (pixels represented as a colum vector) for every each of 1080 examples.\n",
    "### One hot encoding\n",
    "As I mentioned earlier, multi-class classification requires Y labels to be One Hot Encoded. This can be achived with the usage of DataTransformation."
   ]
  },
  {
   "cell_type": "code",
   "execution_count": 6,
   "id": "0b49bc59",
   "metadata": {},
   "outputs": [],
   "source": [
    "train_y_hot = DataTransformation.one_hot_matrix(train_y)\n",
    "test_y_hot = DataTransformation.one_hot_matrix(test_y)"
   ]
  },
  {
   "cell_type": "markdown",
   "id": "b0af0b45",
   "metadata": {},
   "source": [
    "Let's compare original Y to its representation as One Hot Encoded Matrix"
   ]
  },
  {
   "cell_type": "code",
   "execution_count": 7,
   "id": "16513678",
   "metadata": {},
   "outputs": [
    {
     "name": "stdout",
     "output_type": "stream",
     "text": [
      "Original Y: [[5 0 2 5 2]]\n",
      "\n",
      "One hot encoded Y:\n",
      "[[0. 1. 0. 0. 0.]\n",
      " [0. 0. 0. 0. 0.]\n",
      " [0. 0. 1. 0. 1.]\n",
      " [0. 0. 0. 0. 0.]\n",
      " [0. 0. 0. 0. 0.]\n",
      " [1. 0. 0. 1. 0.]]\n"
     ]
    }
   ],
   "source": [
    "print(f\"Original Y: {train_y[:, :5]}\\n\", f\"One hot encoded Y:\\n{train_y_hot[:, : 5]}\", sep=\"\\n\")"
   ]
  },
  {
   "cell_type": "markdown",
   "id": "ba31f9df",
   "metadata": {},
   "source": [
    "## Training multiple models\n",
    "In this example model is pretty complicated and learns slow - it has to deal with 1080 examples and 12288 features. I have tried some values earlier and found those that provide quite good results. In this notebook I will not do GridSearch and analyze results - something like this was done in notebook #1, so you can take a look how finding a good set of hyper-parameters should be done. In this case I will just simply provie those hyper-parameters values that I found.\n",
    "\n",
    "First of all, let's determine *hidden layers dimensions*:"
   ]
  },
  {
   "cell_type": "code",
   "execution_count": 8,
   "id": "10e1ab85",
   "metadata": {},
   "outputs": [],
   "source": [
    "hidden_layers = [32, 16]"
   ]
  },
  {
   "cell_type": "markdown",
   "id": "d4b7e6c2",
   "metadata": {},
   "source": [
    "Let's also create DataFrame that will store costs for every trained model:"
   ]
  },
  {
   "cell_type": "code",
   "execution_count": 9,
   "id": "f18ddfce",
   "metadata": {},
   "outputs": [],
   "source": [
    "indexes = [['multiclass classification']*3, [\"no regularization\", \"dropout\", \"l2\"]]\n",
    "models_costs = pd.DataFrame(columns=['cost'], index=indexes)"
   ]
  },
  {
   "cell_type": "markdown",
   "id": "04b99725",
   "metadata": {},
   "source": [
    "### Without regularization"
   ]
  },
  {
   "cell_type": "code",
   "execution_count": 10,
   "id": "425443ff",
   "metadata": {},
   "outputs": [
    {
     "name": "stdout",
     "output_type": "stream",
     "text": [
      "Cost after iteration 0: 3.382118205259284\n",
      "Cost after iteration 50: 0.836122581129466\n",
      "Cost after iteration 100: 0.5014806117090994\n",
      "Cost after iteration 150: 0.37922001288823004\n",
      "Cost after iteration 200: 0.2860514891477746\n",
      "Cost after iteration 250: 0.23780309815130934\n",
      "Cost after iteration 300: 0.211749781092755\n",
      "Cost after iteration 350: 0.1807700773924399\n",
      "Cost after iteration 400: 0.1647272247267143\n",
      "Cost after iteration 450: 0.14069025233305704\n",
      "Cost after iteration 499: 0.12338880959683331\n"
     ]
    }
   ],
   "source": [
    "np.random.seed(3)\n",
    "model = NeuralNetworkModel(hidden_layers, num_epochs=500, optimizer=\"adam\", mini_batch_size=64,\n",
    "                           learning_rate=0.001, decay=True, decay_rate=2, time_interval=80,\n",
    "                           print_cost=50, save_costs=10)\n",
    "model.fit(train_x, train_y_hot)"
   ]
  },
  {
   "cell_type": "markdown",
   "id": "e0faf894",
   "metadata": {},
   "source": [
    "Lets do prediction on a training set and test set, calculate metrics and save them. Costs values registered during training will be saved as well. We are going to come back to this results in the summary.\n",
    "\n",
    "**Note:** Method *predic* from NeuralNetworkModel class return predictions in One Hot Encoding format, we have to change it back to numerical values for each row. For that I am going use a method *one_hot_to_num* from DataTransformation class."
   ]
  },
  {
   "cell_type": "code",
   "execution_count": 11,
   "id": "2b9caae3",
   "metadata": {},
   "outputs": [],
   "source": [
    "preds = model.predict(train_x)\n",
    "preds = DataTransformation.one_hot_to_num(preds)\n",
    "proba = model.predict_proba(train_x)\n",
    "model_metrics = basic_metrics(train_y, preds, proba, average=\"macro\")\n",
    "metrics_train = pd.DataFrame(columns=list(model_metrics.keys()))\n",
    "metrics_train.loc[\"Training, no regularization\"] = model_metrics\n",
    "\n",
    "preds = model.predict(test_x)\n",
    "preds = DataTransformation.one_hot_to_num(preds)\n",
    "proba = model.predict_proba(test_x)\n",
    "model_metrics = basic_metrics(test_y, preds, proba, average=\"macro\")\n",
    "metrics_test = pd.DataFrame(columns=list(model_metrics.keys()))\n",
    "metrics_test.loc[\"Test, no regularization\"] = model_metrics"
   ]
  },
  {
   "cell_type": "code",
   "execution_count": 12,
   "id": "eb1b8b54",
   "metadata": {},
   "outputs": [],
   "source": [
    "models_costs.loc[(\"multiclass classification\", \"no regularization\"), \"cost\"] = model.get_costs()"
   ]
  },
  {
   "cell_type": "markdown",
   "id": "03c900cc",
   "metadata": {},
   "source": [
    "### With dropout regularization\n",
    "Dropout regularization should not be used with *adam*, this is because *adam* \"remembers\" state of past gradients and uses them during weights updating. The point of dropout is to randomly drop some activation nodes, it causes to set gradient of dropped activation node to 0. There is no point for this value of dropped gradient to have an impact for new calculated weights values."
   ]
  },
  {
   "cell_type": "code",
   "execution_count": 13,
   "id": "55916aa9",
   "metadata": {},
   "outputs": [
    {
     "name": "stdout",
     "output_type": "stream",
     "text": [
      "Cost after iteration 0: 1.818839766541559\n",
      "Cost after iteration 100: 1.3962800155390478\n",
      "Cost after iteration 200: 1.1081808984559287\n",
      "Cost after iteration 300: 0.9249814843139633\n",
      "Cost after iteration 400: 0.8650697588024403\n",
      "Cost after iteration 500: 0.7856452701339225\n",
      "Cost after iteration 600: 0.7555933617251476\n",
      "Cost after iteration 700: 0.7141412734776744\n",
      "Cost after iteration 800: 0.6920967213734095\n",
      "Cost after iteration 900: 0.6767124881234026\n",
      "Cost after iteration 999: 0.6567116076991752\n"
     ]
    }
   ],
   "source": [
    "np.random.seed(3)\n",
    "model_dropout = NeuralNetworkModel(hidden_layers, num_epochs=1000, optimizer=\"gd\", mini_batch_size=64,\n",
    "                                   dropout_keep_prob=0.9, learning_rate=0.001,\n",
    "                                   decay=True, decay_rate=1, time_interval=150, print_cost=100, save_costs=10)\n",
    "model_dropout.fit(train_x, train_y_hot)"
   ]
  },
  {
   "cell_type": "code",
   "execution_count": 14,
   "id": "415d7ce0",
   "metadata": {},
   "outputs": [],
   "source": [
    "preds = model_dropout.predict(train_x)\n",
    "preds = DataTransformation.one_hot_to_num(preds)\n",
    "proba = model_dropout.predict_proba(train_x)\n",
    "metrics_train.loc[\"Training, dropout\"] = basic_metrics(train_y, preds, proba, average=\"macro\")\n",
    "\n",
    "preds = model_dropout.predict(test_x)\n",
    "preds = DataTransformation.one_hot_to_num(preds)\n",
    "proba = model_dropout.predict_proba(test_x)\n",
    "metrics_test.loc[\"Test, dropout\"] = basic_metrics(test_y, preds, proba, average=\"macro\")"
   ]
  },
  {
   "cell_type": "code",
   "execution_count": 16,
   "id": "df3a7eee",
   "metadata": {},
   "outputs": [],
   "source": [
    "models_costs.loc[(\"multiclass classification\", \"dropout\"), \"cost\"] = model_dropout.get_costs()"
   ]
  },
  {
   "cell_type": "markdown",
   "id": "4ba6e227",
   "metadata": {},
   "source": [
    "### With L2 regularization\n"
   ]
  },
  {
   "cell_type": "code",
   "execution_count": 17,
   "id": "b4c8b876",
   "metadata": {},
   "outputs": [
    {
     "name": "stdout",
     "output_type": "stream",
     "text": [
      "Cost after iteration 0: 3.776829605145856\n",
      "Cost after iteration 50: 1.0825980664939434\n",
      "Cost after iteration 100: 0.7514538283174061\n",
      "Cost after iteration 150: 0.6942926568748307\n",
      "Cost after iteration 200: 0.6355753600631424\n",
      "Cost after iteration 250: 0.5977905922052414\n",
      "Cost after iteration 300: 0.5527266224076951\n",
      "Cost after iteration 350: 0.5379184494205674\n",
      "Cost after iteration 400: 0.5089531494794173\n",
      "Cost after iteration 450: 0.4891747409909203\n",
      "Cost after iteration 499: 0.46703304708017074\n"
     ]
    }
   ],
   "source": [
    "np.random.seed(3)\n",
    "model_l2 = NeuralNetworkModel(hidden_layers, num_epochs=500, optimizer=\"adam\", mini_batch_size=64, l2_lambda=0.7,\n",
    "                              learning_rate=0.001,decay=True, decay_rate=2, time_interval=80, print_cost=50, save_costs=10)\n",
    "model_l2.fit(train_x, train_y_hot)"
   ]
  },
  {
   "cell_type": "code",
   "execution_count": 18,
   "id": "e4c60c10",
   "metadata": {},
   "outputs": [],
   "source": [
    "preds = model_l2.predict(train_x)\n",
    "preds = DataTransformation.one_hot_to_num(preds)\n",
    "proba = model_l2.predict_proba(train_x)\n",
    "metrics_train.loc[\"Training, l2\"] = basic_metrics(train_y, preds, proba, average=\"macro\")\n",
    "\n",
    "preds = model_l2.predict(test_x)\n",
    "preds = DataTransformation.one_hot_to_num(preds)\n",
    "proba = model_l2.predict_proba(test_x)\n",
    "metrics_test.loc[\"Test, l2\"] = basic_metrics(test_y, preds, proba, average=\"macro\")"
   ]
  },
  {
   "cell_type": "code",
   "execution_count": 19,
   "id": "55118368",
   "metadata": {},
   "outputs": [],
   "source": [
    "models_costs.loc[(\"multiclass classification\", \"l2\"), \"cost\"] = model_l2.get_costs()"
   ]
  },
  {
   "cell_type": "markdown",
   "id": "2ff45628",
   "metadata": {},
   "source": [
    "##  Analysis of a performance\n",
    "### Gradient visualization for different models"
   ]
  },
  {
   "cell_type": "code",
   "execution_count": 20,
   "id": "f8ed3420",
   "metadata": {},
   "outputs": [
    {
     "data": {
      "image/png": "[encoded data removed]",
      "text/plain": [
       "<Figure size 864x432 with 1 Axes>"
      ]
     },
     "metadata": {
      "needs_background": "light"
     },
     "output_type": "display_data"
    }
   ],
   "source": [
    "Visualization.gradient_visualization(models_costs.cost, 10, \"Gradient visualization for different models\")"
   ]
  },
  {
   "cell_type": "markdown",
   "id": "b3c3a38d",
   "metadata": {},
   "source": [
    "Model with dropout needed twice many epochs as model without regularization or with l2 regularization to provide good results. Cost function for every model decrases with the epochs passed.\n",
    "### Metrics - accuracy, f1, precision, recall, ROC\n",
    "In this section I will present metrics for 3 different model. First of all, metrics on a training set."
   ]
  },
  {
   "cell_type": "code",
   "execution_count": 21,
   "id": "ad7251eb",
   "metadata": {},
   "outputs": [
    {
     "data": {
      "text/html": [
       "<div>\n",
       "<style scoped>\n",
       "    .dataframe tbody tr th:only-of-type {\n",
       "        vertical-align: middle;\n",
       "    }\n",
       "\n",
       "    .dataframe tbody tr th {\n",
       "        vertical-align: top;\n",
       "    }\n",
       "\n",
       "    .dataframe thead th {\n",
       "        text-align: right;\n",
       "    }\n",
       "</style>\n",
       "<table border=\"1\" class=\"dataframe\">\n",
       "  <thead>\n",
       "    <tr style=\"text-align: right;\">\n",
       "      <th></th>\n",
       "      <th>accuracy</th>\n",
       "      <th>f1</th>\n",
       "      <th>precision</th>\n",
       "      <th>recall</th>\n",
       "      <th>AUC</th>\n",
       "    </tr>\n",
       "  </thead>\n",
       "  <tbody>\n",
       "    <tr>\n",
       "      <th>Training, no regularization</th>\n",
       "      <td>0.980556</td>\n",
       "      <td>0.980570</td>\n",
       "      <td>0.980912</td>\n",
       "      <td>0.980556</td>\n",
       "      <td>0.998271</td>\n",
       "    </tr>\n",
       "    <tr>\n",
       "      <th>Training, dropout</th>\n",
       "      <td>0.912037</td>\n",
       "      <td>0.911094</td>\n",
       "      <td>0.912921</td>\n",
       "      <td>0.912037</td>\n",
       "      <td>0.990954</td>\n",
       "    </tr>\n",
       "    <tr>\n",
       "      <th>Training, l2</th>\n",
       "      <td>0.950926</td>\n",
       "      <td>0.951223</td>\n",
       "      <td>0.952745</td>\n",
       "      <td>0.950926</td>\n",
       "      <td>0.996362</td>\n",
       "    </tr>\n",
       "  </tbody>\n",
       "</table>\n",
       "</div>"
      ],
      "text/plain": [
       "                             accuracy        f1  precision    recall       AUC\n",
       "Training, no regularization  0.980556  0.980570   0.980912  0.980556  0.998271\n",
       "Training, dropout            0.912037  0.911094   0.912921  0.912037  0.990954\n",
       "Training, l2                 0.950926  0.951223   0.952745  0.950926  0.996362"
      ]
     },
     "execution_count": 21,
     "metadata": {},
     "output_type": "execute_result"
    }
   ],
   "source": [
    "metrics_train"
   ]
  },
  {
   "cell_type": "markdown",
   "id": "1c2bb22b",
   "metadata": {},
   "source": [
    "Metrics of all models, have all the scores above 90%. It means that those models learned data pretty well, but let's see how they perform on a data they've never seen before."
   ]
  },
  {
   "cell_type": "code",
   "execution_count": 22,
   "id": "77f4380d",
   "metadata": {},
   "outputs": [
    {
     "data": {
      "text/html": [
       "<div>\n",
       "<style scoped>\n",
       "    .dataframe tbody tr th:only-of-type {\n",
       "        vertical-align: middle;\n",
       "    }\n",
       "\n",
       "    .dataframe tbody tr th {\n",
       "        vertical-align: top;\n",
       "    }\n",
       "\n",
       "    .dataframe thead th {\n",
       "        text-align: right;\n",
       "    }\n",
       "</style>\n",
       "<table border=\"1\" class=\"dataframe\">\n",
       "  <thead>\n",
       "    <tr style=\"text-align: right;\">\n",
       "      <th></th>\n",
       "      <th>accuracy</th>\n",
       "      <th>f1</th>\n",
       "      <th>precision</th>\n",
       "      <th>recall</th>\n",
       "      <th>AUC</th>\n",
       "    </tr>\n",
       "  </thead>\n",
       "  <tbody>\n",
       "    <tr>\n",
       "      <th>Test, no regularization</th>\n",
       "      <td>0.808333</td>\n",
       "      <td>0.804552</td>\n",
       "      <td>0.808034</td>\n",
       "      <td>0.808333</td>\n",
       "      <td>0.971583</td>\n",
       "    </tr>\n",
       "    <tr>\n",
       "      <th>Test, dropout</th>\n",
       "      <td>0.816667</td>\n",
       "      <td>0.817240</td>\n",
       "      <td>0.827085</td>\n",
       "      <td>0.816667</td>\n",
       "      <td>0.969250</td>\n",
       "    </tr>\n",
       "    <tr>\n",
       "      <th>Test, l2</th>\n",
       "      <td>0.783333</td>\n",
       "      <td>0.784227</td>\n",
       "      <td>0.789520</td>\n",
       "      <td>0.783333</td>\n",
       "      <td>0.967583</td>\n",
       "    </tr>\n",
       "  </tbody>\n",
       "</table>\n",
       "</div>"
      ],
      "text/plain": [
       "                         accuracy        f1  precision    recall       AUC\n",
       "Test, no regularization  0.808333  0.804552   0.808034  0.808333  0.971583\n",
       "Test, dropout            0.816667  0.817240   0.827085  0.816667  0.969250\n",
       "Test, l2                 0.783333  0.784227   0.789520  0.783333  0.967583"
      ]
     },
     "execution_count": 22,
     "metadata": {},
     "output_type": "execute_result"
    }
   ],
   "source": [
    "metrics_test"
   ]
  },
  {
   "cell_type": "markdown",
   "id": "c9525853",
   "metadata": {},
   "source": [
    "**Summary:**\n",
    "\n",
    "The best f1 score on a test set is a little above 80%. Taking into consideration a fact, that human can always correctly classify a quantity of fingers on an image, the results are not that good.\n",
    "\n",
    "Due to that fact, the question arises. **What can be done to incraese model's performnce?**\n",
    "- we can try different hyper-parameters for models, for example create grid search and learn models all night\n",
    "- adding more data will prevent model from overfitting - the more varity in examples, the better prediction on unknown data\n",
    "\n",
    "**One thing to remember** - we should split data into 3 sets: training, cross-validation and test:\n",
    "- train data on a training set (have a nice performance during training)\n",
    "- evaluate model on a cross-validation set - choose set of hyper-parameters with the respect on data that wasn't seen by a model\n",
    "- run a true test on a test set\n",
    "\n",
    "### Prediction on a random example for the best model:"
   ]
  },
  {
   "cell_type": "code",
   "execution_count": 24,
   "id": "95382cce",
   "metadata": {},
   "outputs": [
    {
     "data": {
      "image/png": "[encoded data removed]",
      "text/plain": [
       "<Figure size 432x288 with 1 Axes>"
      ]
     },
     "metadata": {
      "needs_background": "light"
     },
     "output_type": "display_data"
    }
   ],
   "source": [
    "rand_num = np.random.choice(test_x.shape[1])\n",
    "random_sample = test_x[:, rand_num:rand_num+1]\n",
    "prediction = model_dropout.predict(random_sample)\n",
    "plt.title(f\"Models predicts {np.argmax(prediction, axis=0)}, actual value {test_y[:, rand_num]}\")\n",
    "plt.imshow(random_sample.reshape(64, 64, 3))\n",
    "plt.show()"
   ]
  }
 ],
 "metadata": {
  "kernelspec": {
   "display_name": "Python 3 (ipykernel)",
   "language": "python",
   "name": "python3"
  },
  "language_info": {
   "codemirror_mode": {
    "name": "ipython",
    "version": 3
   },
   "file_extension": ".py",
   "mimetype": "text/x-python",
   "name": "python",
   "nbconvert_exporter": "python",
   "pygments_lexer": "ipython3",
   "version": "3.9.11"
  },
  "toc": {
   "base_numbering": 1,
   "nav_menu": {},
   "number_sections": true,
   "sideBar": true,
   "skip_h1_title": true,
   "title_cell": "Table of Contents",
   "title_sidebar": "Contents",
   "toc_cell": false,
   "toc_position": {},
   "toc_section_display": true,
   "toc_window_display": false
  },
  "varInspector": {
   "cols": {
    "lenName": 16,
    "lenType": 16,
    "lenVar": 40
   },
   "kernels_config": {
    "python": {
     "delete_cmd_postfix": "",
     "delete_cmd_prefix": "del ",
     "library": "var_list.py",
     "varRefreshCmd": "print(var_dic_list())"
    },
    "r": {
     "delete_cmd_postfix": ") ",
     "delete_cmd_prefix": "rm(",
     "library": "var_list.r",
     "varRefreshCmd": "cat(var_dic_list()) "
    }
   },
   "types_to_exclude": [
    "module",
    "function",
    "builtin_function_or_method",
    "instance",
    "_Feature"
   ],
   "window_display": false
  }
 },
 "nbformat": 4,
 "nbformat_minor": 5
}
